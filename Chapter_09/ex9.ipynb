{
 "cells": [
  {
   "cell_type": "markdown",
   "metadata": {},
   "source": [
    "# Simulating Moving Objects"
   ]
  },
  {
   "cell_type": "markdown",
   "metadata": {},
   "source": [
    "Note that the first few sections are not run in the Jupyter notebook.  You can rund `asteroids.py` from the command line and view that file directly in a text editor."
   ]
  },
  {
   "cell_type": "markdown",
   "metadata": {},
   "source": [
    "## Digging deeper into Euler’s method"
   ]
  },
  {
   "cell_type": "code",
   "execution_count": 1,
   "metadata": {},
   "outputs": [],
   "source": [
    "t = 0\n",
    "s = (0,0)\n",
    "v = (1,0)\n",
    "a = (0,0.2)"
   ]
  },
  {
   "cell_type": "code",
   "execution_count": 2,
   "metadata": {},
   "outputs": [],
   "source": [
    "dt = 2\n",
    "steps = 5"
   ]
  },
  {
   "cell_type": "code",
   "execution_count": 3,
   "metadata": {},
   "outputs": [],
   "source": [
    "from vectors import add, scale\n",
    "positions = [s]\n",
    "for _ in range(0,5):\n",
    "    t += 2\n",
    "    s = add(s, scale(dt,v))\n",
    "    v = add(v, scale(dt,a))\n",
    "    positions.append(s)"
   ]
  },
  {
   "cell_type": "code",
   "execution_count": 4,
   "metadata": {},
   "outputs": [
    {
     "data": {
      "image/png": "[encoded data removed]",
      "text/plain": [
       "<Figure size 600x500 with 1 Axes>"
      ]
     },
     "metadata": {},
     "output_type": "display_data"
    }
   ],
   "source": [
    "from draw2d import *\n",
    "draw2d(Points2D(*positions))"
   ]
  },
  {
   "cell_type": "markdown",
   "metadata": {},
   "source": [
    "### Ex9.2\n",
    "等加速度運動している物体に対してオイラー法を自動的に実行する関数を作成せよ。\n",
    "この関数は引数として、初期位置ベクトル、初期速度ベクトル、加速度ベクトルをとる。"
   ]
  },
  {
   "cell_type": "code",
   "execution_count": null,
   "metadata": {},
   "outputs": [
    {
     "data": {
      "text/plain": [
       "[(1, 2), (2, 3), (3, 4), (4, 5), (5, 6)]"
      ]
     },
     "execution_count": 6,
     "metadata": {},
     "output_type": "execute_result"
    }
   ],
   "source": [
    "# 面倒だったので、答えを見た。\n",
    "def pairs(lst):\n",
    "    return list(zip(lst[:-1],lst[1:]))\n",
    "\n",
    "def eulers_method(s0,v0,a,total_time,step_count):\n",
    "    positions = [s0]\n",
    "    s = s0\n",
    "    v = v0\n",
    "    dt = total_time/step_count\n",
    "    for _ in range(0,step_count):\n",
    "        s = add(s,scale(dt,v))\n",
    "        v = add(v,scale(dt,a))\n",
    "        positions.append(s)\n",
    "    return positions"
   ]
  },
  {
   "cell_type": "code",
   "execution_count": null,
   "metadata": {},
   "outputs": [],
   "source": []
  }
 ],
 "metadata": {
  "kernelspec": {
   "display_name": "Python 3",
   "language": "python",
   "name": "python3"
  },
  "language_info": {
   "codemirror_mode": {
    "name": "ipython",
    "version": 3
   },
   "file_extension": ".py",
   "mimetype": "text/x-python",
   "name": "python",
   "nbconvert_exporter": "python",
   "pygments_lexer": "ipython3",
   "version": "3.8.10"
  }
 },
 "nbformat": 4,
 "nbformat_minor": 2
}
