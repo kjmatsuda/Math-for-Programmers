{
 "cells": [
  {
   "cell_type": "markdown",
   "metadata": {},
   "source": [
    "### Ex7.11\n",
    "2つのベクトルv1,v2 に対し、その両方を通る直線の指揮 ax + by = c を求める Python の関数 standard_form を書け。"
   ]
  },
  {
   "cell_type": "code",
   "execution_count": 1,
   "metadata": {},
   "outputs": [],
   "source": [
    "from vectors import *\n",
    "\n",
    "def standard_form(vector1, vector2):\n",
    "    x1, y1 = vector1\n",
    "    x2, y2 = vector2\n",
    "    return ((y2 - y1),-(x2 - x1), x1*y2 - x2*y1)"
   ]
  },
  {
   "cell_type": "markdown",
   "metadata": {},
   "source": [
    "### Ex7.14\n",
    "do_collide(other_polygon)メソッドを書き、そのメソッドを持つ PolygonModelオブジェクトが、別のPolygonModel である other_polygon と衝突したかどうかを判定できるようにせよ。"
   ]
  },
  {
   "cell_type": "code",
   "execution_count": null,
   "metadata": {},
   "outputs": [],
   "source": [
    "class PolygonModel():\n",
    "    def do_collide(self, other_polygon):\n",
    "        # self の segments と other_polygon の segments について二重ループ\n",
    "        # ループの中で segment 同士の does_intersect をチェック\n",
    "        pass"
   ]
  }
 ],
 "metadata": {
  "kernelspec": {
   "display_name": "Python 3",
   "language": "python",
   "name": "python3"
  },
  "language_info": {
   "codemirror_mode": {
    "name": "ipython",
    "version": 3
   },
   "file_extension": ".py",
   "mimetype": "text/x-python",
   "name": "python",
   "nbconvert_exporter": "python",
   "pygments_lexer": "ipython3",
   "version": "3.8.10"
  }
 },
 "nbformat": 4,
 "nbformat_minor": 2
}
