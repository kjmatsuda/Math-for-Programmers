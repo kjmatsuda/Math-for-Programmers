{
 "cells": [
  {
   "cell_type": "markdown",
   "metadata": {},
   "source": [
    "### Ex7.11\n",
    "2つのベクトルv1,v2 に対し、その両方を通る直線の指揮 ax + by = c を求める Python の関数 standard_form を書け。"
   ]
  },
  {
   "cell_type": "code",
   "execution_count": 1,
   "metadata": {},
   "outputs": [],
   "source": [
    "from vectors import *\n",
    "\n",
    "def standard_form(vector1, vector2):\n",
    "    x1, y1 = vector1\n",
    "    x2, y2 = vector2\n",
    "    return ((y2 - y1),-(x2 - x1), x1*y2 - x2*y1)"
   ]
  },
  {
   "cell_type": "markdown",
   "metadata": {},
   "source": [
    "### Ex7.14\n",
    "do_collide(other_polygon)メソッドを書き、そのメソッドを持つ PolygonModelオブジェクトが、別のPolygonModel である other_polygon と衝突したかどうかを判定できるようにせよ。"
   ]
  },
  {
   "cell_type": "code",
   "execution_count": 2,
   "metadata": {},
   "outputs": [],
   "source": [
    "class PolygonModel():\n",
    "    def do_collide(self, other_polygon):\n",
    "        # self の segments と other_polygon の segments について二重ループ\n",
    "        # ループの中で segment 同士の does_intersect をチェック\n",
    "        pass"
   ]
  },
  {
   "cell_type": "markdown",
   "metadata": {},
   "source": [
    "### Ex7.19\n",
    "3次元の点3つを入力として、それらの点を通る平面の標準形の方程式を返す Python の関数を書け。"
   ]
  },
  {
   "cell_type": "code",
   "execution_count": null,
   "metadata": {},
   "outputs": [],
   "source": [
    "# よくわからなかったので、本を見て写経\n",
    "from vectors import *\n",
    "def plane_equation(p1,p2,p3):\n",
    "    parallel1 = subtract(p2,p1)\n",
    "    parallel2 = subtract(p3,p1)\n",
    "    a,b,c = cross(parallel1, parallel2)\n",
    "    d = dot(p1, (a,b,c))\n",
    "    return (a,b,c,d)"
   ]
  }
 ],
 "metadata": {
  "kernelspec": {
   "display_name": "Python 3",
   "language": "python",
   "name": "python3"
  },
  "language_info": {
   "codemirror_mode": {
    "name": "ipython",
    "version": 3
   },
   "file_extension": ".py",
   "mimetype": "text/x-python",
   "name": "python",
   "nbconvert_exporter": "python",
   "pygments_lexer": "ipython3",
   "version": "3.8.10"
  }
 },
 "nbformat": 4,
 "nbformat_minor": 2
}
