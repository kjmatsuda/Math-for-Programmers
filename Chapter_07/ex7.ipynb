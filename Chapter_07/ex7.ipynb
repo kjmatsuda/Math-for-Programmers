{
 "cells": [
  {
   "cell_type": "markdown",
   "metadata": {},
   "source": [
    "### Ex7.11\n",
    "2つのベクトルv1,v2 に対し、その両方を通る直線の指揮 ax + by = c を求める Python の関数 standard_form を書け。"
   ]
  },
  {
   "cell_type": "code",
   "execution_count": 3,
   "metadata": {},
   "outputs": [],
   "source": [
    "from vectors import *\n",
    "\n",
    "def standard_form(vector1, vector2):\n",
    "    x1, y1 = vector1\n",
    "    x2, y2 = vector2\n",
    "    return ((y2 - y1),-(x2 - x1), x1*y2 - x2*y1)"
   ]
  },
  {
   "cell_type": "markdown",
   "metadata": {},
   "source": [
    "### Ex7.14\n",
    "do_collide(other_polygon)メソッドを書き、そのメソッドを持つ PolygonModelオブジェクトが、別のPolygonModel である other_polygon と衝突したかどうかを判定できるようにせよ。"
   ]
  },
  {
   "cell_type": "code",
   "execution_count": 4,
   "metadata": {},
   "outputs": [],
   "source": [
    "class PolygonModel():\n",
    "    def do_collide(self, other_polygon):\n",
    "        # self の segments と other_polygon の segments について二重ループ\n",
    "        # ループの中で segment 同士の does_intersect をチェック\n",
    "        pass"
   ]
  },
  {
   "cell_type": "markdown",
   "metadata": {},
   "source": [
    "### Ex7.19\n",
    "3次元の点3つを入力として、それらの点を通る平面の標準形の方程式を返す Python の関数を書け。"
   ]
  },
  {
   "cell_type": "code",
   "execution_count": 5,
   "metadata": {},
   "outputs": [
    {
     "data": {
      "text/plain": [
       "(3, 3, 3, 9)"
      ]
     },
     "execution_count": 5,
     "metadata": {},
     "output_type": "execute_result"
    }
   ],
   "source": [
    "# よくわからなかったので、本を見て写経\n",
    "from vectors import *\n",
    "def plane_equation(p1,p2,p3):\n",
    "    parallel1 = subtract(p2,p1)\n",
    "    parallel2 = subtract(p3,p1)\n",
    "    a,b,c = cross(parallel1, parallel2)\n",
    "    d = dot(p1, (a,b,c))\n",
    "    return (a,b,c,d)\n",
    "\n",
    "plane_equation((1,1,1),(3,0,0),(0,3,0))"
   ]
  },
  {
   "cell_type": "markdown",
   "metadata": {},
   "source": [
    "### Ex7.26"
   ]
  },
  {
   "cell_type": "code",
   "execution_count": null,
   "metadata": {},
   "outputs": [
    {
     "data": {
      "text/plain": [
       "array([-1.,  3.,  3.])"
      ]
     },
     "execution_count": 6,
     "metadata": {},
     "output_type": "execute_result"
    }
   ],
   "source": [
    "import numpy as np\n",
    "\n",
    "# 7,3,2節の解\n",
    "matrix = np.array(((1,1,-1),(0,2,-1),(1,0,1)))\n",
    "vector = np.array((-1,3,2))\n",
    "np.linalg.solve(matrix,vector)"
   ]
  },
  {
   "cell_type": "code",
   "execution_count": null,
   "metadata": {},
   "outputs": [
    {
     "data": {
      "text/plain": [
       "array([[ 1.00000000e+00,  1.11022302e-16, -1.11022302e-16],\n",
       "       [ 0.00000000e+00,  1.00000000e+00,  0.00000000e+00],\n",
       "       [ 0.00000000e+00,  0.00000000e+00,  1.00000000e+00]])"
      ]
     },
     "execution_count": 11,
     "metadata": {},
     "output_type": "execute_result"
    }
   ],
   "source": [
    "# 逆行列を求める\n",
    "inv_matrix = np.linalg.inv(matrix)\n",
    "# 元の行列とかけると単位行列となる(inv_matrix @ matrix でも計算できる)\n",
    "np.matmul(inv_matrix, matrix)"
   ]
  },
  {
   "cell_type": "code",
   "execution_count": 12,
   "metadata": {},
   "outputs": [
    {
     "data": {
      "text/plain": [
       "array([-1.,  3.,  3.])"
      ]
     },
     "execution_count": 12,
     "metadata": {},
     "output_type": "execute_result"
    }
   ],
   "source": [
    "# 右辺に逆行列をかける\n",
    "np.matmul(inv_matrix, vector)"
   ]
  },
  {
   "cell_type": "code",
   "execution_count": null,
   "metadata": {},
   "outputs": [],
   "source": []
  }
 ],
 "metadata": {
  "kernelspec": {
   "display_name": "Python 3",
   "language": "python",
   "name": "python3"
  },
  "language_info": {
   "codemirror_mode": {
    "name": "ipython",
    "version": 3
   },
   "file_extension": ".py",
   "mimetype": "text/x-python",
   "name": "python",
   "nbconvert_exporter": "python",
   "pygments_lexer": "ipython3",
   "version": "3.8.10"
  }
 },
 "nbformat": 4,
 "nbformat_minor": 2
}
