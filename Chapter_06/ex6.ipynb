{
 "cells": [
  {
   "cell_type": "markdown",
   "metadata": {},
   "source": [
    "### Ex6.1\n",
    "Vector を継承した　Vec3クラスを実装せよ。"
   ]
  },
  {
   "cell_type": "code",
   "execution_count": 46,
   "metadata": {},
   "outputs": [],
   "source": [
    "from abc import ABCMeta, abstractmethod\n",
    "\n",
    "class Vector(metaclass=ABCMeta):\n",
    "    @abstractmethod\n",
    "    def scale(self,scalar):\n",
    "        pass\n",
    "    @abstractmethod\n",
    "    def add(self,other):\n",
    "        pass\n",
    "    def __mul__(self, scalar):\n",
    "        return self.scale(scalar)\n",
    "    def __rmul__(self, scalar):\n",
    "        return self.scale(scalar)\n",
    "    def __add__(self,other):\n",
    "        return self.add(other)"
   ]
  },
  {
   "cell_type": "code",
   "execution_count": 47,
   "metadata": {},
   "outputs": [
    {
     "name": "stdout",
     "output_type": "stream",
     "text": [
      "Vec3(1,2,3)\n"
     ]
    }
   ],
   "source": [
    "# あまりピンとこなかったので、本を見て写経した。\n",
    "class Vec3(Vector):\n",
    "    def __init__(self, x, y, z) -> None:\n",
    "        self.x = x\n",
    "        self.y = y\n",
    "        self.z = z\n",
    "\n",
    "    def scale(self, scalar):\n",
    "        return Vec3(self.x * scalar, self.y * scalar, self.z * scalar)\n",
    "\n",
    "    def add(self, other):\n",
    "        return Vec3(self.x + other.x, self.y + other.y, self.z + other.z)\n",
    "\n",
    "    def __eq__(self, other):\n",
    "        return (self.x == other.x and self.y == other.y and self.z == other.z)\n",
    "\n",
    "    def __repr__(self):\n",
    "        return \"Vec3({},{},{})\".format(self.x, self.y, self.z)\n",
    "\n",
    "vec = Vec3(1,2,3)\n",
    "print(vec)"
   ]
  },
  {
   "cell_type": "markdown",
   "metadata": {},
   "source": [
    "### Ex6.2\n",
    "Vector を継承し、次元を表す抽象プロパティを持つ CoordinateVector クラスを実装せよ。\n",
    "これにより、特定の座標ベクトルクラスを実装する際の繰り返し作業を省くことができる。\n",
    "CoorinateVector から継承し、次元を6に設定するだけで、Vec6クラスを実装することができるようになる。"
   ]
  },
  {
   "cell_type": "code",
   "execution_count": 48,
   "metadata": {},
   "outputs": [],
   "source": [
    "# 自分の間違った解答\n",
    "class CoordinateVector(Vector):\n",
    "    def __init__(self, dimension, vector) -> None:\n",
    "        self.dimension = dimension\n",
    "        self.vector = vector\n",
    "\n",
    "    def scale(self, scalar):\n",
    "        return CoordinateVector(self.dimension, (elem * scalar for elem in self.vector))\n",
    "\n",
    "    def add(self, other):\n",
    "        return CoordinateVector(self.dimension, (elem + other_elem for (elem, other_elem) in zip(self.vector, other.vector)))"
   ]
  },
  {
   "cell_type": "code",
   "execution_count": 49,
   "metadata": {},
   "outputs": [
    {
     "name": "stdout",
     "output_type": "stream",
     "text": [
      "Vec6(2, 4, 6, 8, 10, 12)\n"
     ]
    }
   ],
   "source": [
    "# 本に記載の回答\n",
    "from abc import abstractproperty\n",
    "from vectors import add, scale\n",
    "\n",
    "class CoordinateVector(Vector):\n",
    "    @abstractproperty\n",
    "    def dimension(self):\n",
    "        pass\n",
    "\n",
    "    def __init__(self, *coordinates):\n",
    "        self.coordinates = tuple(x for x in coordinates)\n",
    "\n",
    "    def add(self, other):\n",
    "        return self.__class__(*add(self.coordinates, other.coordinates))\n",
    "\n",
    "    def scale(self, scalar):\n",
    "        return self.__class__(*scale(scalar, self.coordinates))\n",
    "\n",
    "    def __repr__(self) -> str:\n",
    "        return \"{}{}\".format(self.__class__.__qualname__, self.coordinates)\n",
    "\n",
    "class Vec6(CoordinateVector):\n",
    "    def dimension(self):\n",
    "        return 6\n",
    "\n",
    "print(Vec6(1,2,3,4,5,6) + Vec6(1,2,3,4,5,6))\n"
   ]
  },
  {
   "cell_type": "markdown",
   "metadata": {},
   "source": [
    "### Ex6.3\n",
    "抽象メソッドzeroと、反転演算子を Vector クラスに実装せよ。zeroメソッドは\n",
    "与えられたベクトル空間のゼロベクトルを返す。ベクトル空間内でのゼロベクトルと任意のベクトルの反転は必要になるので、これがあると便利である。"
   ]
  },
  {
   "cell_type": "code",
   "execution_count": 50,
   "metadata": {},
   "outputs": [],
   "source": [
    "from abc import ABCMeta, abstractmethod, abstractproperty\n",
    "\n",
    "class Vector(metaclass=ABCMeta):\n",
    "    @abstractmethod\n",
    "    def scale(self,scalar):\n",
    "        pass\n",
    "    @abstractmethod\n",
    "    def add(self,other):\n",
    "        pass\n",
    "    def __mul__(self, scalar):\n",
    "        return self.scale(scalar)\n",
    "    def __rmul__(self, scalar):\n",
    "        return self.scale(scalar)\n",
    "    def __add__(self,other):\n",
    "        return self.add(other)\n",
    "    @classmethod\n",
    "    @abstractproperty\n",
    "    def zero():\n",
    "        pass\n",
    "    def __neg__(self):\n",
    "        return self.scale(-1)"
   ]
  },
  {
   "cell_type": "markdown",
   "metadata": {},
   "source": [
    "### Ex6.4\n",
    "Vec3に対する加算とスカラー倍がベクトル空間の特性を満たすことを示す単体テストを書け"
   ]
  },
  {
   "cell_type": "code",
   "execution_count": 51,
   "metadata": {},
   "outputs": [],
   "source": [
    "# ベクトル空間の特性というと p221～p222に定義が記載されている。加算についての特性と、スカラー倍についての特性。\n",
    "# p224~p225に2次元の場合について記載があるから同様にやればよさそうだ\n",
    "from random import uniform\n",
    "from math import isclose\n",
    "\n",
    "def random_scalar():\n",
    "    return uniform(-10,10)\n",
    "\n",
    "def random_vec3():\n",
    "    return Vec3(random_scalar(),random_scalar(),random_scalar())\n",
    "\n",
    "def approx_equal_vec3(v,w):\n",
    "    return isclose(v.x, w.x) and isclose(v.y, w.y) and isclose(v.z, w.z)\n",
    "\n",
    "def test(eq, a, b, u, v, w):\n",
    "    assert eq(u + v, v + u)\n",
    "    assert eq(u + (v + w), (u + v) + w)\n",
    "    assert eq(a * (b * v), (a * b) * v)\n",
    "    assert eq(1 * v, v)\n",
    "    assert eq((a + b) * v, a * v + b * v)\n",
    "    assert eq(a * v + a * w, a * (v + w))\n",
    "\n",
    "for i in range(0,100):\n",
    "    a,b = random_scalar(), random_scalar()\n",
    "    u,v,w = random_vec3(), random_vec3(), random_vec3()\n",
    "    test(approx_equal_vec3,a,b,u,v,w)"
   ]
  },
  {
   "cell_type": "markdown",
   "metadata": {},
   "source": [
    "### Ex6.5\n",
    "任意のベクトルvについて、0ベクトル+v=v、0・v=0ベクトル、および -v+v=0ベクトルであることを確認する単体テストを追加せよ。"
   ]
  },
  {
   "cell_type": "code",
   "execution_count": 52,
   "metadata": {},
   "outputs": [],
   "source": [
    "# まずは zeroメソッドを追加した Vec3 を定義\n",
    "class Vec3(Vector):\n",
    "    def __init__(self, x, y, z) -> None:\n",
    "        self.x = x\n",
    "        self.y = y\n",
    "        self.z = z\n",
    "\n",
    "    def scale(self, scalar):\n",
    "        return Vec3(self.x * scalar, self.y * scalar, self.z * scalar)\n",
    "\n",
    "    def add(self, other):\n",
    "        return Vec3(self.x + other.x, self.y + other.y, self.z + other.z)\n",
    "\n",
    "    def __eq__(self, other):\n",
    "        return (self.x == other.x and self.y == other.y and self.z == other.z)\n",
    "\n",
    "    def __repr__(self):\n",
    "        return \"Vec3({},{},{})\".format(self.x, self.y, self.z)\n",
    "\n",
    "    def zero():\n",
    "        return Vec3(0,0,0)\n",
    "\n",
    "\n",
    "def test_zero_vec(eq, zero_vec, v):\n",
    "    assert eq(zero_vec + v, v)\n",
    "    assert eq(0 * v, zero_vec)\n",
    "    assert eq(-v + v, zero_vec)\n",
    "\n",
    "for i in range(0,100):\n",
    "    v = random_vec3()\n",
    "    test_zero_vec(approx_equal_vec3, Vec3.zero(),v)\n"
   ]
  },
  {
   "cell_type": "markdown",
   "metadata": {},
   "source": [
    "### Ex6.6\n",
    "Vec2とVec3に等価演算が実装されているので、Vec2(1,2)==Vec3(1,2,3)はTrueを返してしまう。\n",
    "ベクトルの等しさをテストする前にクラスが同じかどうかのチェックを追加することで、これを修正せよ。"
   ]
  },
  {
   "cell_type": "code",
   "execution_count": 54,
   "metadata": {},
   "outputs": [],
   "source": [
    "from abc import ABCMeta, abstractmethod, abstractproperty\n",
    "\n",
    "# 派生クラスでは基底クラスの __eq__ と合わせて自身のチェックを行う\n",
    "class Vec3(Vector):\n",
    "    def __init__(self, x, y, z) -> None:\n",
    "        self.x = x\n",
    "        self.y = y\n",
    "        self.z = z\n",
    "\n",
    "    def scale(self, scalar):\n",
    "        return Vec3(self.x * scalar, self.y * scalar, self.z * scalar)\n",
    "\n",
    "    def add(self, other):\n",
    "        return Vec3(self.x + other.x, self.y + other.y, self.z + other.z)\n",
    "\n",
    "    def __eq__(self, other):\n",
    "        return (type(self) == type(other)) and (self.x == other.x and self.y == other.y and self.z == other.z)\n",
    "\n",
    "    def __repr__(self):\n",
    "        return \"Vec3({},{},{})\".format(self.x, self.y, self.z)\n",
    "\n",
    "    def zero():\n",
    "        return Vec3(0,0,0)\n",
    "\n",
    "class Vec2(Vector):\n",
    "    def __init__(self,x,y):\n",
    "        self.x = x\n",
    "        self.y = y\n",
    "    def add(self,other):\n",
    "        return Vec2(self.x + other.x, self.y + other.y)\n",
    "    def scale(self,scalar):\n",
    "        return Vec2(scalar * self.x, scalar * self.y)\n",
    "    def __eq__(self,other):\n",
    "        return (type(self) == type(other)) and self.x == other.x and self.y == other.y\n",
    "    def __repr__(self):\n",
    "        return \"Vec2({},{})\".format(self.x, self.y)\n",
    "    def zero():\n",
    "        return Vec2(0,0,0)\n",
    "\n",
    "def test_eq_2d_3d():\n",
    "    assert False==(Vec2(1,2)==Vec3(1,2,3))\n",
    "\n",
    "test_eq_2d_3d()"
   ]
  },
  {
   "cell_type": "markdown",
   "metadata": {},
   "source": [
    "### Ex6.7\n",
    "ベクトルをスカラーで割ることができる__truediv__関数を Vector に実装せよ。\n",
    "ベクトルは、ベクトルにスカラーの逆数(1.0/スカラー)を乗算することで、0ではないスカラーで割ることができる。"
   ]
  },
  {
   "cell_type": "code",
   "execution_count": 56,
   "metadata": {},
   "outputs": [],
   "source": [
    "from abc import ABCMeta, abstractmethod, abstractproperty\n",
    "\n",
    "class Vector(metaclass=ABCMeta):\n",
    "    @abstractmethod\n",
    "    def scale(self,scalar):\n",
    "        pass\n",
    "    @abstractmethod\n",
    "    def add(self,other):\n",
    "        pass\n",
    "    def __mul__(self, scalar):\n",
    "        return self.scale(scalar)\n",
    "    def __rmul__(self, scalar):\n",
    "        return self.scale(scalar)\n",
    "    def __add__(self,other):\n",
    "        return self.add(other)\n",
    "    @classmethod\n",
    "    @abstractproperty\n",
    "    def zero():\n",
    "        pass\n",
    "    def __neg__(self):\n",
    "        return self.scale(-1)\n",
    "\n",
    "    def __truediv__(self, scalar):\n",
    "        return self.scale(1.0 / scalar)\n",
    "\n",
    "class Vec3(Vector):\n",
    "    def __init__(self, x, y, z) -> None:\n",
    "        self.x = x\n",
    "        self.y = y\n",
    "        self.z = z\n",
    "\n",
    "    def scale(self, scalar):\n",
    "        return Vec3(self.x * scalar, self.y * scalar, self.z * scalar)\n",
    "\n",
    "    def add(self, other):\n",
    "        return Vec3(self.x + other.x, self.y + other.y, self.z + other.z)\n",
    "\n",
    "    def __eq__(self, other):\n",
    "        return (type(self) == type(other)) and (self.x == other.x and self.y == other.y and self.z == other.z)\n",
    "\n",
    "    def __repr__(self):\n",
    "        return \"Vec3({},{},{})\".format(self.x, self.y, self.z)\n",
    "\n",
    "    def zero():\n",
    "        return Vec3(0,0,0)\n",
    "\n",
    "assert (Vec3(2,4,6) / 2) == Vec3(1,2,3)"
   ]
  },
  {
   "cell_type": "code",
   "execution_count": null,
   "metadata": {},
   "outputs": [],
   "source": []
  }
 ],
 "metadata": {
  "kernelspec": {
   "display_name": "Python 3",
   "language": "python",
   "name": "python3"
  },
  "language_info": {
   "codemirror_mode": {
    "name": "ipython",
    "version": 3
   },
   "file_extension": ".py",
   "mimetype": "text/x-python",
   "name": "python",
   "nbconvert_exporter": "python",
   "pygments_lexer": "ipython3",
   "version": "3.10.11"
  }
 },
 "nbformat": 4,
 "nbformat_minor": 2
}
