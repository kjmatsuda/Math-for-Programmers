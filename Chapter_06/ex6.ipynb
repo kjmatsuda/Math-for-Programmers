{
 "cells": [
  {
   "cell_type": "markdown",
   "metadata": {},
   "source": [
    "### Ex6.1\n",
    "Vector を継承した　Vec3クラスを実装せよ。"
   ]
  },
  {
   "cell_type": "code",
   "execution_count": 7,
   "metadata": {},
   "outputs": [],
   "source": [
    "from abc import ABCMeta, abstractmethod\n",
    "\n",
    "class Vector(metaclass=ABCMeta):\n",
    "    @abstractmethod\n",
    "    def scale(self,scalar):\n",
    "        pass\n",
    "    @abstractmethod\n",
    "    def add(self,other):\n",
    "        pass\n",
    "    def __mul__(self, scalar):\n",
    "        return self.scale(scalar)\n",
    "    def __rmul__(self, scalar):\n",
    "        return self.scale(scalar)\n",
    "    def __add__(self,other):\n",
    "        return self.add(other)"
   ]
  },
  {
   "cell_type": "code",
   "execution_count": 11,
   "metadata": {},
   "outputs": [
    {
     "name": "stdout",
     "output_type": "stream",
     "text": [
      "Vec3(1,2,3)\n"
     ]
    }
   ],
   "source": [
    "# あまりピンとこなかったので、本を見て写経した。\n",
    "class Vec3(Vector):\n",
    "    def __init__(self, x, y, z) -> None:\n",
    "        self.x = x\n",
    "        self.y = y\n",
    "        self.z = z\n",
    "\n",
    "    def scale(self, scalar):\n",
    "        return Vec3(self.x * scalar, self.y * scalar, self.z * scalar)\n",
    "\n",
    "    def add(self, other):\n",
    "        return Vec3(self.x + other.x, self.y + other.y, self.z + other.z)\n",
    "\n",
    "    def __eq__(self, other):\n",
    "        return (self.x == other.x and self.y == other.y and self.z == other.z)\n",
    "\n",
    "    def __repr__(self):\n",
    "        return \"Vec3({},{},{})\".format(self.x, self.y, self.z)\n",
    "\n",
    "vec = Vec3(1,2,3)\n",
    "print(vec)"
   ]
  },
  {
   "cell_type": "markdown",
   "metadata": {},
   "source": [
    "### Ex6.2\n",
    "Vector を継承し、次元を表す抽象プロパティを持つ CoordinateVector クラスを実装せよ。\n",
    "これにより、特定の座標ベクトルクラスを実装する際の繰り返し作業を省くことができる。\n",
    "CoorinateVector から継承し、次元を6に設定するだけで、Vec6クラスを実装することができるようになる。"
   ]
  },
  {
   "cell_type": "code",
   "execution_count": 13,
   "metadata": {},
   "outputs": [],
   "source": [
    "# 自分の間違った解答\n",
    "class CoordinateVector(Vector):\n",
    "    def __init__(self, dimension, vector) -> None:\n",
    "        self.dimension = dimension\n",
    "        self.vector = vector\n",
    "\n",
    "    def scale(self, scalar):\n",
    "        return CoordinateVector(self.dimension, (elem * scalar for elem in self.vector))\n",
    "\n",
    "    def add(self, other):\n",
    "        return CoordinateVector(self.dimension, (elem + other_elem for (elem, other_elem) in zip(self.vector, other.vector)))"
   ]
  },
  {
   "cell_type": "code",
   "execution_count": 17,
   "metadata": {},
   "outputs": [
    {
     "name": "stdout",
     "output_type": "stream",
     "text": [
      "Vec6(2, 4, 6, 8, 10, 12)\n"
     ]
    }
   ],
   "source": [
    "# 本に記載の回答\n",
    "from abc import abstractproperty\n",
    "from vectors import add, scale\n",
    "\n",
    "class CoordinateVector(Vector):\n",
    "    @abstractproperty\n",
    "    def dimension(self):\n",
    "        pass\n",
    "\n",
    "    def __init__(self, *coordinates):\n",
    "        self.coordinates = tuple(x for x in coordinates)\n",
    "\n",
    "    def add(self, other):\n",
    "        return self.__class__(*add(self.coordinates, other.coordinates))\n",
    "\n",
    "    def scale(self, scalar):\n",
    "        return self.__class__(*scale(scalar, self.coordinates))\n",
    "\n",
    "    def __repr__(self) -> str:\n",
    "        return \"{}{}\".format(self.__class__.__qualname__, self.coordinates)\n",
    "\n",
    "class Vec6(CoordinateVector):\n",
    "    def dimension(self):\n",
    "        return 6\n",
    "\n",
    "print(Vec6(1,2,3,4,5,6) + Vec6(1,2,3,4,5,6))\n"
   ]
  },
  {
   "cell_type": "markdown",
   "metadata": {},
   "source": [
    "### Ex6.3\n",
    "抽象メソッドzeroと、反転演算子を Vector クラスに実装せよ。zeroメソッドは\n",
    "与えられたベクトル空間のゼロベクトルを返す。ベクトル空間内でのゼロベクトルと任意のベクトルの反転は必要になるので、これがあると便利である。"
   ]
  }
 ],
 "metadata": {
  "kernelspec": {
   "display_name": "Python 3",
   "language": "python",
   "name": "python3"
  },
  "language_info": {
   "codemirror_mode": {
    "name": "ipython",
    "version": 3
   },
   "file_extension": ".py",
   "mimetype": "text/x-python",
   "name": "python",
   "nbconvert_exporter": "python",
   "pygments_lexer": "ipython3",
   "version": "3.10.11"
  }
 },
 "nbformat": 4,
 "nbformat_minor": 2
}
