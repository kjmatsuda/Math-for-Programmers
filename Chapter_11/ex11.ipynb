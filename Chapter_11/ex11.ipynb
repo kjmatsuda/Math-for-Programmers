{
 "cells": [
  {
   "cell_type": "markdown",
   "metadata": {},
   "source": [
    "# 1. Modeling gravitational fields"
   ]
  },
  {
   "cell_type": "markdown",
   "metadata": {},
   "source": [
    "## 1.1 Defining a vector field"
   ]
  },
  {
   "cell_type": "code",
   "execution_count": null,
   "metadata": {},
   "outputs": [],
   "source": [
    "import numpy as np\n",
    "import matplotlib.pyplot as plt"
   ]
  },
  {
   "cell_type": "code",
   "execution_count": null,
   "metadata": {},
   "outputs": [],
   "source": [
    "def f(x,y):\n",
    "    return (-2*y, x)"
   ]
  },
  {
   "cell_type": "code",
   "execution_count": null,
   "metadata": {},
   "outputs": [],
   "source": [
    "def plot_vector_field(f,xmin,xmax,ymin,ymax,xstep=1,ystep=1):\n",
    "\n",
    "    X,Y = np.meshgrid(np.arange(xmin,xmax, xstep),np.arange(ymin,ymax, ystep))\n",
    "    U = np.vectorize(lambda x,y : f(x,y)[0])(X,Y)\n",
    "    V = np.vectorize(lambda x,y : f(x,y)[1])(X,Y)\n",
    "    plt.quiver(X, Y, U, V,color='red')\n",
    "    fig = plt.gcf()\n",
    "    fig.set_size_inches(7,7)"
   ]
  },
  {
   "cell_type": "code",
   "execution_count": null,
   "metadata": {},
   "outputs": [],
   "source": [
    "plot_vector_field(f,-5,5,-5,5)"
   ]
  },
  {
   "cell_type": "markdown",
   "metadata": {},
   "source": [
    "## 1.2 Defining a simple force field"
   ]
  },
  {
   "cell_type": "code",
   "execution_count": null,
   "metadata": {},
   "outputs": [],
   "source": [
    "def f(x,y):\n",
    "    return (-x,-y)\n",
    "\n",
    "plot_vector_field(f,-5,5,-5,5)"
   ]
  },
  {
   "cell_type": "markdown",
   "metadata": {},
   "source": [
    "# 2. Adding gravity to the asteroid game"
   ]
  },
  {
   "cell_type": "markdown",
   "metadata": {},
   "source": [
    "See asteroids.py"
   ]
  },
  {
   "cell_type": "markdown",
   "metadata": {},
   "source": [
    "## 2.2 Exercises"
   ]
  },
  {
   "cell_type": "markdown",
   "metadata": {},
   "source": [
    "# 3 Introducing potential energy"
   ]
  },
  {
   "cell_type": "markdown",
   "metadata": {},
   "source": [
    "## 3.1 Defining a potential energy scalar field"
   ]
  },
  {
   "cell_type": "code",
   "execution_count": null,
   "metadata": {},
   "outputs": [],
   "source": [
    "def u(x,y):\n",
    "    return 0.5 * (x**2 + y**2)"
   ]
  },
  {
   "cell_type": "code",
   "execution_count": null,
   "metadata": {},
   "outputs": [],
   "source": [
    "from mpl_toolkits.mplot3d import Axes3D\n",
    "import matplotlib.pyplot as plt\n",
    "from matplotlib import cm\n",
    "from matplotlib.ticker import LinearLocator, FormatStrFormatter\n",
    "\n",
    "def plot_scalar_field(f,xmin,xmax,ymin,ymax,xstep=0.25,ystep=0.25,c=None,cmap=cm.coolwarm,alpha=1,antialiased=False):\n",
    "    fig = plt.figure()\n",
    "    fig.set_size_inches(7,7)\n",
    "    ax = fig.gca(projection='3d')\n",
    "\n",
    "    fv = np.vectorize(f)\n",
    "\n",
    "    # Make data.\n",
    "    X = np.arange(xmin, xmax, xstep)\n",
    "    Y = np.arange(ymin, ymax, ystep)\n",
    "    X, Y = np.meshgrid(X, Y)\n",
    "    Z = fv(X,Y)\n",
    "\n",
    "    # Plot the surface.\n",
    "    surf = ax.plot_surface(X, Y, Z, cmap=cmap,color=c,alpha=alpha,\n",
    "                           linewidth=0, antialiased=antialiased)"
   ]
  },
  {
   "cell_type": "code",
   "execution_count": null,
   "metadata": {},
   "outputs": [],
   "source": [
    "plot_scalar_field(u, -5, 5, -5, 5)"
   ]
  },
  {
   "cell_type": "markdown",
   "metadata": {},
   "source": [
    "## 3.2 Plotting a scalar field as a heatmap"
   ]
  },
  {
   "cell_type": "code",
   "execution_count": null,
   "metadata": {},
   "outputs": [],
   "source": [
    "def scalar_field_heatmap(f,xmin,xmax,ymin,ymax,xstep=0.1,ystep=0.1):\n",
    "    fig = plt.figure()\n",
    "    fig.set_size_inches(7,7)\n",
    "\n",
    "    fv = np.vectorize(f)\n",
    "\n",
    "    X = np.arange(xmin, xmax, xstep)\n",
    "    Y = np.arange(ymin, ymax, ystep)\n",
    "    X, Y = np.meshgrid(X, Y)\n",
    "\n",
    "    # https://stackoverflow.com/a/54088910/1704140\n",
    "    z = fv(X,Y)\n",
    "\n",
    "#     # x and y are bounds, so z should be the value *inside* those bounds.\n",
    "#     # Therefore, remove the last value from the z array.\n",
    "#     z = z[:-1, :-1]\n",
    "#     z_min, z_max = -z.min(), z.max()\n",
    "\n",
    "    fig, ax = plt.subplots()\n",
    "\n",
    "    c = ax.pcolormesh(X,Y,z, cmap='plasma')\n",
    "    # set the limits of the plot to the limits of the data\n",
    "    ax.axis([X.min(), X.max(), Y.min(), Y.max()])\n",
    "    fig.colorbar(c, ax=ax)\n",
    "    plt.xlabel('x')\n",
    "    plt.ylabel('y')\n",
    "\n",
    "scalar_field_heatmap(u,-5,5,-5,5)"
   ]
  },
  {
   "cell_type": "markdown",
   "metadata": {},
   "source": [
    "## 3.3 Plotting a scalar field as a contour map"
   ]
  },
  {
   "cell_type": "code",
   "execution_count": null,
   "metadata": {},
   "outputs": [],
   "source": [
    "def scalar_field_contour(f,xmin,xmax,ymin,ymax,levels=None):\n",
    "\n",
    "    fv = np.vectorize(f)\n",
    "\n",
    "    X = np.arange(xmin, xmax, 0.1)\n",
    "    Y = np.arange(ymin, ymax, 0.1)\n",
    "    X, Y = np.meshgrid(X, Y)\n",
    "\n",
    "    # https://stackoverflow.com/a/54088910/1704140\n",
    "    Z = fv(X,Y)\n",
    "\n",
    "    fig, ax = plt.subplots()\n",
    "    CS = ax.contour(X, Y, Z,levels=levels)\n",
    "    ax.clabel(CS, inline=1, fontsize=10,fmt='%1.1f')\n",
    "    plt.xlabel('x')\n",
    "    plt.ylabel('y')\n",
    "    fig.set_size_inches(7,7)\n",
    "\n",
    "scalar_field_contour(u,-10,10,-10,10,levels=[10,20,30,40,50,60])"
   ]
  },
  {
   "cell_type": "markdown",
   "metadata": {},
   "source": [
    "# 4 Connecting energy and forces with the gradient"
   ]
  },
  {
   "cell_type": "markdown",
   "metadata": {},
   "source": [
    "## 4.5 Exercises"
   ]
  },
  {
   "cell_type": "code",
   "execution_count": null,
   "metadata": {},
   "outputs": [],
   "source": []
  }
 ],
 "metadata": {
  "kernelspec": {
   "display_name": "Python 3",
   "language": "python",
   "name": "python3"
  },
  "language_info": {
   "codemirror_mode": {
    "name": "ipython",
    "version": 3
   },
   "file_extension": ".py",
   "mimetype": "text/x-python",
   "name": "python",
   "nbconvert_exporter": "python",
   "pygments_lexer": "ipython3",
   "version": "3.8.10"
  }
 },
 "nbformat": 4,
 "nbformat_minor": 2
}
